{
 "cells": [
  {
   "cell_type": "markdown",
   "metadata": {},
   "source": [
    "# Massas dos planetas do SS em unidades solares"
   ]
  },
  {
   "cell_type": "markdown",
   "metadata": {},
   "source": [
    "## Constante de Gauss e GM solar"
   ]
  },
  {
   "cell_type": "code",
   "execution_count": 83,
   "metadata": {
    "collapsed": false
   },
   "outputs": [
    {
     "name": "stdout",
     "output_type": "stream",
     "text": [
      "39.476926421373015\n"
     ]
    }
   ],
   "source": [
    "# Constante de Gauss\n",
    "k = 0.017202098950000\n",
    "\n",
    "# GM do Sol [au^3/yr^2]  \n",
    "GM = (k * 365.25)**2\n",
    "print(GM)"
   ]
  },
  {
   "cell_type": "markdown",
   "metadata": {},
   "source": [
    "## Fator de conversão\n",
    "$$km^3 / s^2 \\implies au^3 / yr^2$$"
   ]
  },
  {
   "cell_type": "code",
   "execution_count": 84,
   "metadata": {
    "collapsed": true
   },
   "outputs": [],
   "source": [
    "convert_factor = (365.25 * 86400)**2 / 149597870.700**3 "
   ]
  },
  {
   "cell_type": "markdown",
   "metadata": {},
   "source": [
    "## Dados dos planetas e seus satélites\n",
    "Site do Horizons onde foram tomadas os valores para os planetas e seus maiores satélites\n",
    "\n",
    "- Planetas: <https://ssd.jpl.nasa.gov/horizons.cgi#top>\n",
    "- Satélites: <https://ssd.jpl.nasa.gov/?sat_phys_par>"
   ]
  },
  {
   "cell_type": "markdown",
   "metadata": {},
   "source": [
    "## Júpiter"
   ]
  },
  {
   "cell_type": "code",
   "execution_count": 85,
   "metadata": {
    "collapsed": true
   },
   "outputs": [],
   "source": [
    "GMJ = 126686511 #[km^3/s^2]\n",
    "\n",
    "GM_Io = 5959.916\n",
    "GM_Europa = 3202.739\n",
    "GM_Ganymede = 9887.834\n",
    "GM_Callisto = 7179.289\n",
    "Sum_GM = GMJ + GM_Io + GM_Europa + GM_Ganymede + GM_Callisto\n",
    "GMJS = Sum_GM * convert_factor # [au^3/yr^2]  "
   ]
  },
  {
   "cell_type": "markdown",
   "metadata": {},
   "source": [
    "### Quantas vezes o Sol é maior que Júpiter\n",
    "<https://ssd.jpl.nasa.gov/?constants>"
   ]
  },
  {
   "cell_type": "code",
   "execution_count": 86,
   "metadata": {
    "collapsed": false
   },
   "outputs": [
    {
     "data": {
      "text/plain": [
       "1047.348824018027"
      ]
     },
     "execution_count": 86,
     "metadata": {},
     "output_type": "execute_result"
    }
   ],
   "source": [
    "#Quantas vezes o Sol é maior que Júpiter e seus quatro maiores satélites\n",
    "GM / GMJS"
   ]
  },
  {
   "cell_type": "markdown",
   "metadata": {},
   "source": [
    "## Saturno"
   ]
  },
  {
   "cell_type": "code",
   "execution_count": 87,
   "metadata": {
    "collapsed": false
   },
   "outputs": [],
   "source": [
    "GM_Saturn = 37931207.8  #[km^3/s^2]  \n",
    "\n",
    "GM_Mimas = 2.5026\n",
    "GM_Enceladus = 7.2027\n",
    "GM_Tethys = 41.2067\n",
    "GM_Dione = 73.1146\n",
    "GM_Rhea = 153.9426\n",
    "GM_Titan = 8978.1382\n",
    "GM_Hyperion = 0.3727\n",
    "GM_Iapetus = 120.5038\n",
    "GM_Phoebe = 0.5532\n",
    "GM_Janus = 0.1263\n",
    "GM_Epimetheus = 0.0351\n",
    "GM_Helene = 0.00076\n",
    "\n",
    "\n",
    "Sum_GM = GM_Saturn + GM_Mimas + GM_Enceladus + GM_Tethys + GM_Dione +\\\n",
    "         GM_Rhea + GM_Titan + GM_Hyperion + GM_Iapetus + GM_Phoebe +\\\n",
    "         GM_Janus + GM_Epimetheus + GM_Helene\n",
    "        \n",
    "GMSS = Sum_GM * convert_factor  # [au^3/yr^2]"
   ]
  },
  {
   "cell_type": "markdown",
   "metadata": {},
   "source": [
    "### Quantas vezes o Sol é maior que Saturno\n",
    "<https://ssd.jpl.nasa.gov/?constants>"
   ]
  },
  {
   "cell_type": "code",
   "execution_count": 88,
   "metadata": {
    "collapsed": false
   },
   "outputs": [
    {
     "data": {
      "text/plain": [
       "3497.9017401966007"
      ]
     },
     "execution_count": 88,
     "metadata": {},
     "output_type": "execute_result"
    }
   ],
   "source": [
    "#Quantas vezes o Sol é maior que Saturno e seus maiores satélites\n",
    "GM / GMSS"
   ]
  },
  {
   "cell_type": "markdown",
   "metadata": {},
   "source": [
    "## Urano"
   ]
  },
  {
   "cell_type": "code",
   "execution_count": 89,
   "metadata": {
    "collapsed": false
   },
   "outputs": [],
   "source": [
    "GM_Uranus = 5793966  #[km^3/s^2]  \n",
    "\n",
    "GM_Ariel = 86.4\n",
    "GM_Umbriel = 81.5\n",
    "GM_Titania = 228.2\n",
    "GM_Oberon = 192.4\n",
    "GM_Miranda = 4.4\n",
    "GM_Cordelia = 0.0030\n",
    "\n",
    "\n",
    "Sum_GM = GM_Uranus + GM_Ariel + GM_Umbriel + GM_Titania +\\\n",
    "         GM_Oberon + GM_Miranda + GM_Cordelia\n",
    "    \n",
    "GMUS = Sum_GM * convert_factor # [au^3/yr^2]"
   ]
  },
  {
   "cell_type": "markdown",
   "metadata": {},
   "source": [
    "### Quantas vezes o Sol é maior que Urano?\n",
    "<https://ssd.jpl.nasa.gov/?constants>"
   ]
  },
  {
   "cell_type": "code",
   "execution_count": 90,
   "metadata": {
    "collapsed": false
   },
   "outputs": [
    {
     "data": {
      "text/plain": [
       "22902.940890501697"
      ]
     },
     "execution_count": 90,
     "metadata": {},
     "output_type": "execute_result"
    }
   ],
   "source": [
    "GM / GMUS"
   ]
  },
  {
   "cell_type": "markdown",
   "metadata": {},
   "source": [
    "## Netuno"
   ]
  },
  {
   "cell_type": "code",
   "execution_count": 91,
   "metadata": {
    "collapsed": false
   },
   "outputs": [],
   "source": [
    "GM_Neptune = 6835107 #[km^3/s^2] \n",
    "\n",
    "GM_Triton = 1427.6\n",
    "GM_Nereid = 2.06\n",
    "GM_Naiad = 0.013\n",
    "GM_Thalassa = 0.025\n",
    "GM_Despina = 0.14\n",
    "GM_Galatea = 0.25\n",
    "GM_Larissa = 0.33\n",
    "GM_Proteus = 3.36\n",
    "GM_Halimede = 0.012\n",
    "GM_Psamathe = 0.003\n",
    "GM_Sao = 0.0045\n",
    "GM_Laomedeia = 0.0039\n",
    "GM_Neso = 0.011\n",
    "\n",
    "Sum_GM = GM_Neptune + GM_Triton + GM_Nereid + GM_Naiad + GM_Thalassa +\\\n",
    "         GM_Despina + GM_Galatea + GM_Larissa + GM_Proteus +\\\n",
    "         GM_Halimede + GM_Psamathe + GM_Sao + GM_Laomedeia + GM_Neso\n",
    "\n",
    "GMNS = Sum_GM * convert_factor # [au^3/yr^2]"
   ]
  },
  {
   "cell_type": "markdown",
   "metadata": {},
   "source": [
    "### Quantas vezes o Sol é maior que Netuno?\n",
    "<https://ssd.jpl.nasa.gov/?constants>"
   ]
  },
  {
   "cell_type": "code",
   "execution_count": 92,
   "metadata": {
    "collapsed": false
   },
   "outputs": [
    {
     "data": {
      "text/plain": [
       "19412.220841456525"
      ]
     },
     "execution_count": 92,
     "metadata": {},
     "output_type": "execute_result"
    }
   ],
   "source": [
    "GM / GMNS"
   ]
  },
  {
   "cell_type": "markdown",
   "metadata": {},
   "source": [
    "## Terra"
   ]
  },
  {
   "cell_type": "code",
   "execution_count": 93,
   "metadata": {
    "collapsed": true
   },
   "outputs": [],
   "source": [
    "GM_Earth = 398600.440 #[km^3/s^2] \n",
    "\n",
    "GM_Moon = 4902.801\n",
    "\n",
    "Sum_GM = GM_Earth + GM_Moon\n",
    "\n",
    "GMEM = Sum_GM * convert_factor # [au^3/yr^2]"
   ]
  },
  {
   "cell_type": "code",
   "execution_count": 94,
   "metadata": {
    "collapsed": false
   },
   "outputs": [
    {
     "data": {
      "text/plain": [
       "0.00012002693757049969"
      ]
     },
     "execution_count": 94,
     "metadata": {},
     "output_type": "execute_result"
    }
   ],
   "source": [
    "GMEM"
   ]
  },
  {
   "cell_type": "markdown",
   "metadata": {},
   "source": [
    "### Quantas vezes o Sol é maior que o sistema Terra-Lua?\n",
    "<https://ssd.jpl.nasa.gov/?constants>"
   ]
  },
  {
   "cell_type": "code",
   "execution_count": 95,
   "metadata": {
    "collapsed": false
   },
   "outputs": [
    {
     "data": {
      "text/plain": [
       "328900.5553289704"
      ]
     },
     "execution_count": 95,
     "metadata": {},
     "output_type": "execute_result"
    }
   ],
   "source": [
    "GM / GMEM"
   ]
  },
  {
   "cell_type": "markdown",
   "metadata": {},
   "source": [
    "## Marte"
   ]
  },
  {
   "cell_type": "code",
   "execution_count": 96,
   "metadata": {
    "collapsed": true
   },
   "outputs": [],
   "source": [
    "GM_Mars = 42828.3 #[km^3/s^2] \n",
    "\n",
    "GM_Phobos = 0.0007112\n",
    "GM_Deimos = 0.0000985\n",
    "\n",
    "Sum_GM = GM_Phobos + GM_Deimos\n",
    "\n",
    "GMMS = Sum_GM * convert_factor # [au^3/yr^2]"
   ]
  },
  {
   "cell_type": "markdown",
   "metadata": {},
   "source": [
    "### Quantas vezes o Sol é maior que o sistema Marte, usando suas luas?\n",
    "<https://ssd.jpl.nasa.gov/?constants>"
   ]
  },
  {
   "cell_type": "code",
   "execution_count": 97,
   "metadata": {
    "collapsed": false
   },
   "outputs": [
    {
     "data": {
      "text/plain": [
       "163903223467876.22"
      ]
     },
     "execution_count": 97,
     "metadata": {},
     "output_type": "execute_result"
    }
   ],
   "source": [
    "GM / GMMS"
   ]
  },
  {
   "cell_type": "markdown",
   "metadata": {},
   "source": [
    "### Quantas vezs o Sol é maior que o sistema Marte, sem considerar suas luas?"
   ]
  },
  {
   "cell_type": "code",
   "execution_count": 98,
   "metadata": {
    "collapsed": false
   },
   "outputs": [
    {
     "data": {
      "text/plain": [
       "3098709.0321572274"
      ]
     },
     "execution_count": 98,
     "metadata": {},
     "output_type": "execute_result"
    }
   ],
   "source": [
    "GM / (GM_Mars * convert_factor)"
   ]
  },
  {
   "cell_type": "code",
   "execution_count": null,
   "metadata": {
    "collapsed": true
   },
   "outputs": [],
   "source": []
  }
 ],
 "metadata": {
  "kernelspec": {
   "display_name": "Python 3",
   "language": "python",
   "name": "python3"
  },
  "language_info": {
   "codemirror_mode": {
    "name": "ipython",
    "version": 3
   },
   "file_extension": ".py",
   "mimetype": "text/x-python",
   "name": "python",
   "nbconvert_exporter": "python",
   "pygments_lexer": "ipython3",
   "version": "3.6.0"
  }
 },
 "nbformat": 4,
 "nbformat_minor": 2
}
